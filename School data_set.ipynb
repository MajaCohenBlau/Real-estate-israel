{
 "cells": [
  {
   "cell_type": "code",
   "execution_count": 7,
   "metadata": {},
   "outputs": [],
   "source": [
    "import pandas as pd\n",
    "import csv\n",
    "import numpy as np\n",
    "import math\n",
    "from pyproj import CRS\n",
    "from pyproj import Transformer"
   ]
  },
  {
   "cell_type": "markdown",
   "metadata": {},
   "source": [
    "The data comprises two tables. \n",
    "1. school_id and its characteristics (religion, govermnental, student age...)\n",
    "2. school_id and its XY coordinates\n",
    "\n",
    "The first thing is to relate each school_id to the gush it belongs.\n",
    "To do so, a post-request is sent to the website govmap with the XY coordinate of the scool_id in the payload.\n",
    "The response contains the gush where the school is located."
   ]
  },
  {
   "cell_type": "code",
   "execution_count": 8,
   "metadata": {},
   "outputs": [],
   "source": [
    "def school_in_gush(x, y):\n",
    "    request_payload = {\"x\":x,\"y\":y,\"mapTolerance\":100,\n",
    "                       \"layers\":[{\"LayerType\":0,\"LayerName\":\"school\",\"LayerFilter\":\"\"},\n",
    "                                 {\"LayerType\":0,\"LayerName\":\"kids_g\",\"LayerFilter\":\"\"},\n",
    "                                 {\"LayerType\":0,\"LayerName\":\"sub_gush_all\",\"LayerFilter\":\"\"}]}\n",
    "\n",
    "    headers = {'content-type': 'application/json'}\n",
    "    url = r'https://ags.govmap.gov.il/Identify/IdentifyByXY'\n",
    "    coordinate_request = requests.post(url, data=json.dumps(request_payload), headers=headers)\n",
    "    school = coordinate_request.json()\n",
    "    school_dict = {}\n",
    "    school_in_gush = school['data'][1]['Result'][0]['tabs'][0]['fields'][0]['FieldValue']\n",
    "    return school_in_gush\n",
    "\n",
    "\n",
    "def list_school_in_gush(dataframe, output_path, column_label, start):\n",
    "    new_df = pd.DataFrame(columns=column_label)\n",
    "    file = open(output_path, \"a\")\n",
    "    writer = csv.writer(file, lineterminator='\\n')\n",
    "    writer.writerow(column_label)\n",
    "    x_coord = list(dataframe['X'])\n",
    "    y_coord = list(dataframe['Y'])\n",
    "    school_id = list(dataframe['school ID'])\n",
    "    school_id = []\n",
    "#     for tuples in list(dataframe.index):\n",
    "#         school_id.append(tuples[0])\n",
    "    print(school_id)\n",
    "    gush_list = []\n",
    "    # print(len(y_coord))\n",
    "    for n in range(start, len(y_coord)):\n",
    "        print('round: {}'.format(n))\n",
    "        id = school_id[n]\n",
    "        try:\n",
    "            f_gush_number = school_in_gush(x=x_coord[n], y=y_coord[n])\n",
    "            csv_row = ([id, f_gush_number])\n",
    "            writer.writerow(csv_row)\n",
    "        except:\n",
    "            csv_row = ([id, 'none'])\n",
    "            writer.writerow(csv_row)\n",
    "        if n % 100 == 0:\n",
    "            file.flush()\n"
   ]
  },
  {
   "cell_type": "code",
   "execution_count": 9,
   "metadata": {},
   "outputs": [
    {
     "name": "stdout",
     "output_type": "stream",
     "text": [
      "[]\n",
      "round: 0\n"
     ]
    },
    {
     "ename": "IndexError",
     "evalue": "list index out of range",
     "output_type": "error",
     "traceback": [
      "\u001b[1;31m---------------------------------------------------------------------------\u001b[0m",
      "\u001b[1;31mIndexError\u001b[0m                                Traceback (most recent call last)",
      "\u001b[1;32m<ipython-input-9-37db3681931d>\u001b[0m in \u001b[0;36m<module>\u001b[1;34m\u001b[0m\n\u001b[0;32m      5\u001b[0m \u001b[0mcol_name\u001b[0m \u001b[1;33m=\u001b[0m \u001b[1;33m[\u001b[0m\u001b[1;34m'school ID'\u001b[0m\u001b[1;33m,\u001b[0m \u001b[1;34m'Gush number'\u001b[0m\u001b[1;33m]\u001b[0m\u001b[1;33m\u001b[0m\u001b[1;33m\u001b[0m\u001b[0m\n\u001b[0;32m      6\u001b[0m \u001b[0mtest_df_coord\u001b[0m \u001b[1;33m=\u001b[0m \u001b[0mdf_school_coord\u001b[0m\u001b[1;33m.\u001b[0m\u001b[0miloc\u001b[0m\u001b[1;33m[\u001b[0m\u001b[1;33m:\u001b[0m\u001b[1;36m20\u001b[0m\u001b[1;33m]\u001b[0m\u001b[1;33m\u001b[0m\u001b[1;33m\u001b[0m\u001b[0m\n\u001b[1;32m----> 7\u001b[1;33m \u001b[0mlist_school_in_gush\u001b[0m\u001b[1;33m(\u001b[0m\u001b[0mdataframe\u001b[0m\u001b[1;33m=\u001b[0m\u001b[0mdf_school_coord\u001b[0m\u001b[1;33m,\u001b[0m \u001b[0moutput_path\u001b[0m\u001b[1;33m=\u001b[0m\u001b[0moutput\u001b[0m\u001b[1;33m,\u001b[0m \u001b[0mcolumn_label\u001b[0m\u001b[1;33m=\u001b[0m\u001b[0mcol_name\u001b[0m\u001b[1;33m,\u001b[0m \u001b[0mstart\u001b[0m\u001b[1;33m=\u001b[0m\u001b[1;36m0\u001b[0m\u001b[1;33m)\u001b[0m\u001b[1;33m\u001b[0m\u001b[1;33m\u001b[0m\u001b[0m\n\u001b[0m",
      "\u001b[1;32m<ipython-input-8-642cee152c5d>\u001b[0m in \u001b[0;36mlist_school_in_gush\u001b[1;34m(dataframe, output_path, column_label, start)\u001b[0m\n\u001b[0;32m     30\u001b[0m     \u001b[1;32mfor\u001b[0m \u001b[0mn\u001b[0m \u001b[1;32min\u001b[0m \u001b[0mrange\u001b[0m\u001b[1;33m(\u001b[0m\u001b[0mstart\u001b[0m\u001b[1;33m,\u001b[0m \u001b[0mlen\u001b[0m\u001b[1;33m(\u001b[0m\u001b[0my_coord\u001b[0m\u001b[1;33m)\u001b[0m\u001b[1;33m)\u001b[0m\u001b[1;33m:\u001b[0m\u001b[1;33m\u001b[0m\u001b[1;33m\u001b[0m\u001b[0m\n\u001b[0;32m     31\u001b[0m         \u001b[0mprint\u001b[0m\u001b[1;33m(\u001b[0m\u001b[1;34m'round: {}'\u001b[0m\u001b[1;33m.\u001b[0m\u001b[0mformat\u001b[0m\u001b[1;33m(\u001b[0m\u001b[0mn\u001b[0m\u001b[1;33m)\u001b[0m\u001b[1;33m)\u001b[0m\u001b[1;33m\u001b[0m\u001b[1;33m\u001b[0m\u001b[0m\n\u001b[1;32m---> 32\u001b[1;33m         \u001b[0mid\u001b[0m \u001b[1;33m=\u001b[0m \u001b[0mschool_id\u001b[0m\u001b[1;33m[\u001b[0m\u001b[0mn\u001b[0m\u001b[1;33m]\u001b[0m\u001b[1;33m\u001b[0m\u001b[1;33m\u001b[0m\u001b[0m\n\u001b[0m\u001b[0;32m     33\u001b[0m         \u001b[1;32mtry\u001b[0m\u001b[1;33m:\u001b[0m\u001b[1;33m\u001b[0m\u001b[1;33m\u001b[0m\u001b[0m\n\u001b[0;32m     34\u001b[0m             \u001b[0mf_gush_number\u001b[0m \u001b[1;33m=\u001b[0m \u001b[0mschool_in_gush\u001b[0m\u001b[1;33m(\u001b[0m\u001b[0mx\u001b[0m\u001b[1;33m=\u001b[0m\u001b[0mx_coord\u001b[0m\u001b[1;33m[\u001b[0m\u001b[0mn\u001b[0m\u001b[1;33m]\u001b[0m\u001b[1;33m,\u001b[0m \u001b[0my\u001b[0m\u001b[1;33m=\u001b[0m\u001b[0my_coord\u001b[0m\u001b[1;33m[\u001b[0m\u001b[0mn\u001b[0m\u001b[1;33m]\u001b[0m\u001b[1;33m)\u001b[0m\u001b[1;33m\u001b[0m\u001b[1;33m\u001b[0m\u001b[0m\n",
      "\u001b[1;31mIndexError\u001b[0m: list index out of range"
     ]
    }
   ],
   "source": [
    "path1 = r'C:\\Users\\majac\\Desktop\\JohnBriceProject\\SchoolData\\SchoolCoordinate.csv'\n",
    "output = r'C:\\Users\\majac\\Desktop\\JohnBriceProject\\SchoolData\\School and gush.csv'\n",
    "output2 = r'C:\\Users\\majac\\Desktop\\JohnBriceProject\\SchoolData\\School_and_gushOK.csv'\n",
    "df_school_coord = pd.read_csv(path1)\n",
    "col_name = ['school ID', 'Gush number']\n",
    "test_df_coord = df_school_coord.iloc[:20]\n",
    "list_school_in_gush(dataframe=df_school_coord, output_path=output, column_label=col_name, start=0)"
   ]
  },
  {
   "cell_type": "markdown",
   "metadata": {},
   "source": [
    "Several of the results went back empty. To make sure that the problem does not come from an overloading of the website, the 'none' values were re-run for re-check."
   ]
  },
  {
   "cell_type": "code",
   "execution_count": 10,
   "metadata": {},
   "outputs": [
    {
     "ename": "NameError",
     "evalue": "name 'output_none' is not defined",
     "output_type": "error",
     "traceback": [
      "\u001b[1;31m---------------------------------------------------------------------------\u001b[0m",
      "\u001b[1;31mNameError\u001b[0m                                 Traceback (most recent call last)",
      "\u001b[1;32m<ipython-input-10-3f0f4f805ed0>\u001b[0m in \u001b[0;36m<module>\u001b[1;34m\u001b[0m\n\u001b[0;32m      2\u001b[0m \u001b[0mnone_gush\u001b[0m \u001b[1;33m=\u001b[0m \u001b[0mdf_school_gush\u001b[0m\u001b[1;33m.\u001b[0m\u001b[0mloc\u001b[0m\u001b[1;33m[\u001b[0m\u001b[0mdf_school_gush\u001b[0m\u001b[1;33m[\u001b[0m\u001b[1;34m'Gush number'\u001b[0m\u001b[1;33m]\u001b[0m \u001b[1;33m==\u001b[0m \u001b[1;34m'none'\u001b[0m\u001b[1;33m]\u001b[0m\u001b[1;33m\u001b[0m\u001b[1;33m\u001b[0m\u001b[0m\n\u001b[0;32m      3\u001b[0m \u001b[0mnone_gush\u001b[0m \u001b[1;33m=\u001b[0m \u001b[0mnone_gush\u001b[0m\u001b[1;33m.\u001b[0m\u001b[0mreplace\u001b[0m\u001b[1;33m(\u001b[0m\u001b[1;34m'none'\u001b[0m\u001b[1;33m,\u001b[0m \u001b[1;34m'not found'\u001b[0m\u001b[1;33m)\u001b[0m\u001b[1;33m\u001b[0m\u001b[1;33m\u001b[0m\u001b[0m\n\u001b[1;32m----> 4\u001b[1;33m \u001b[0mlist_school_in_gush\u001b[0m\u001b[1;33m(\u001b[0m\u001b[0mdataframe\u001b[0m\u001b[1;33m=\u001b[0m\u001b[0mnone_gush\u001b[0m\u001b[1;33m,\u001b[0m \u001b[0moutput_path\u001b[0m\u001b[1;33m=\u001b[0m\u001b[0moutput_none\u001b[0m\u001b[1;33m,\u001b[0m \u001b[0mcolumn_label\u001b[0m\u001b[1;33m=\u001b[0m\u001b[0mcol_name\u001b[0m\u001b[1;33m,\u001b[0m \u001b[0mstart\u001b[0m\u001b[1;33m=\u001b[0m\u001b[1;36m0\u001b[0m\u001b[1;33m)\u001b[0m\u001b[1;33m\u001b[0m\u001b[1;33m\u001b[0m\u001b[0m\n\u001b[0m",
      "\u001b[1;31mNameError\u001b[0m: name 'output_none' is not defined"
     ]
    }
   ],
   "source": [
    "df_school_gush = pd.read_csv(output)\n",
    "none_gush = df_school_gush.loc[df_school_gush['Gush number'] == 'none']\n",
    "none_gush = none_gush.replace('none', 'not found')\n",
    "list_school_in_gush(dataframe=none_gush, output_path=output_none, column_label=col_name, start=0)\n"
   ]
  },
  {
   "cell_type": "markdown",
   "metadata": {},
   "source": [
    "The results came back the same so we have to drop the school that are gush-less (404 entries).\n",
    "\n",
    "\n",
    "Next, the school and gush will be merged with the school characteristics."
   ]
  },
  {
   "cell_type": "code",
   "execution_count": null,
   "metadata": {},
   "outputs": [],
   "source": [
    "df_school_gushOK = df_school_gush.set_index('Gush number')\n",
    "df_school_gushOK.drop(index=df_school_gushOK.loc['none'])\n",
    "df_school_gushOK.to_csv(output2)"
   ]
  },
  {
   "cell_type": "code",
   "execution_count": null,
   "metadata": {
    "scrolled": true
   },
   "outputs": [],
   "source": [
    "path1 = r'C:\\Users\\majac\\Desktop\\JohnBriceProject\\SchoolData\\SchoolCoordinate.csv'\n",
    "path2 = r'C:\\Users\\majac\\Desktop\\JohnBriceProject\\SchoolData\\city_school.csv'\n",
    "with open(path2, encoding='utf-8') as schoolspec:\n",
    "    school_df = pd.read_csv(schoolspec)\n",
    "    \n",
    "to_be_drop = ['Name', 'number of student in the school', 'low status', 'mahoz','from level', 'to level','educ. To bagrut',\n",
    "       'building year', 'founded','e', 'city.1','b', 'c', 'd', 'a', 'spcialized children', 'education type' ]\n",
    "\n",
    "school_df.drop(columns = to_be_drop, inplace=True)\n",
    "school_df"
   ]
  },
  {
   "cell_type": "code",
   "execution_count": null,
   "metadata": {},
   "outputs": [],
   "source": [
    "school_df2 = school_df.set_index(['gan or highschool'], inplace=False)\n",
    "# print(set((school_df2.index)))\n",
    "school_df2.drop(index= ['מרכז חיר', 'מרכז ניה', 'פנימיה', 'מוסדות ל', 'מוסד תרב', 'הכשרות', 'מוסד ספו', '\"היל\"\"ה\"', 'השלמת הש', 'אולפן'\n",
    "                        , 'מסגרות ל',  'מרכז העש', 'סמינר', 'מכינה', 'אשכול'], inplace=True)\n",
    "\n",
    "school_df2.reset_index(inplace=True)\n",
    "school_df2.set_index('year', inplace=True)\n",
    "school_df2.drop([2011, 2012, 2013, 2014], inplace=True)\n",
    "\n",
    "school_df2"
   ]
  },
  {
   "cell_type": "code",
   "execution_count": null,
   "metadata": {},
   "outputs": [],
   "source": [
    "output2 = r'C:\\Users\\majac\\Desktop\\JohnBriceProject\\SchoolData\\School_and_gushOK.csv'\n",
    "df_school_gushOK = pd.read_csv(output2)\n",
    "df_school_gushOK"
   ]
  },
  {
   "cell_type": "code",
   "execution_count": null,
   "metadata": {},
   "outputs": [],
   "source": [
    "school = pd.merge(school_df2, df_school_gushOK, on='school_id', how='left')\n",
    "# set(school_df2['gan or highschool'])\n",
    "school"
   ]
  },
  {
   "cell_type": "code",
   "execution_count": null,
   "metadata": {
    "scrolled": true
   },
   "outputs": [],
   "source": [
    "gb_school = pd.pivot_table(school, index='Gush number', columns= ['gan or highschool'], values = 'school_id', aggfunc=np.count_nonzero)\n",
    "gb_school.replace(np.nan,0, inplace=True)\n",
    "\n",
    "gb_school['school_gan'] = gb_school['בית ספר'] + gb_school['גן ילדים']\n",
    "gb_school['advanced_education'] = gb_school['אוניברסי'] + gb_school['מכללות']\n",
    "gb_school.drop(columns = ['בית ספר', 'גן ילדים', 'אוניברסי', 'מכללות', 'advanced_education'], inplace=True)\n",
    "\n",
    "\n",
    "gb_school2 = pd.pivot_table(school, index='Gush number', columns= ['legislation'], values = 'school_id', aggfunc=np.count_nonzero)\n",
    "gb_school2.columns = ['Haredi_memchalti', 'memchalti', 'Haredi']\n",
    "\n",
    "\n",
    "gb_school3 = pd.pivot_table(school, index='Gush number', columns= ['religion'], values = 'school_id', aggfunc=np.count_nonzero)\n",
    "gb_school3.columns = ['beduin', 'druse', 'jewish', 'arabic', 'chersk']\n",
    "\n",
    "gush_and_schooltype = pd.merge(gb_school, gb_school2, on='Gush number', how='left')\n",
    "gush_and_schooltype = pd.merge(gush_and_schooltype, gb_school3, on='Gush number', how='left')\n",
    "gush_and_schooltype.replace(np.nan,0, inplace=True)\n",
    "gush_and_schooltype"
   ]
  },
  {
   "cell_type": "markdown",
   "metadata": {},
   "source": [
    "Now to transform haredi, haredi memchalti and memchalti to gush with majority of school:\n",
    "\n",
    "Haredi ==> H\n",
    "\n",
    "Haredi memchalti ==> HM\n",
    "\n",
    "memchalti ==> M\n",
    "\n",
    "Haredi + Haredi memchalti ==> H\n",
    "\n",
    "Else ==> mixed\n",
    "\n",
    "And to replace ethnic majority:\n",
    "jewish = J\n",
    "Arabic = A\n",
    "Other = O"
   ]
  },
  {
   "cell_type": "code",
   "execution_count": null,
   "metadata": {},
   "outputs": [],
   "source": [
    "gush_and_schooltype.replace(np.nan,0, inplace=True)\n",
    "education_type = []\n",
    "for row, value in gush_and_schooltype.iterrows():\n",
    "#     print(row)\n",
    "    if value['Haredi_memchalti'] + value['Haredi'] > value['school_gan']/2:\n",
    "        education_type.append('H')\n",
    "    elif value['Haredi_memchalti']> value['school_gan']/2:\n",
    "        education_type.append('HM')\n",
    "    elif value['Haredi']> value['school_gan']/2:\n",
    "        education_type.append('H')\n",
    "    elif value['memchalti']> value['school_gan']/2:\n",
    "        education_type.append('M')\n",
    "    else:\n",
    "        education_type.append('mixed')\n",
    "# print(education_type)\n",
    "#     print(gush_and_schooltype.loc[row, value['Haredi_memchalti']])\n",
    "gush_and_schooltype['education_type'] = education_type\n",
    "\n",
    "religion = []\n",
    "for row, value in gush_and_schooltype.iterrows():\n",
    "#     print(row)\n",
    "    if value['jewish'] > value['school_gan']/2:\n",
    "        religion.append('J')\n",
    "    elif value['arabic']> value['school_gan']/2:\n",
    "        religion.append('A')\n",
    "    else:\n",
    "        religion.append('O')\n",
    "# print(education_type)\n",
    "#     print(gush_and_schooltype.loc[row, value['Haredi_memchalti']])\n",
    "gush_and_schooltype['ethnicity'] = religion\n",
    "\n",
    "new_gush_and_schooltype = gush_and_schooltype.drop(columns = ['Haredi_memchalti', 'memchalti', 'Haredi','beduin', 'druse', 'jewish', 'arabic', 'chersk'])\n",
    "new_gush_and_schooltype\n",
    "\n",
    "# output =r'C:\\Users\\majac\\Desktop\\JohnBriceProject\\SchoolData\\school_education_in_gush.csv'\n",
    "# new_gush_and_schooltype.to_csv(output)"
   ]
  },
  {
   "cell_type": "code",
   "execution_count": 45,
   "metadata": {},
   "outputs": [
    {
     "data": {
      "text/plain": [
       "school_gan        10\n",
       "education_type     H\n",
       "ethnicity          J\n",
       "Name: 309, dtype: object"
      ]
     },
     "execution_count": 45,
     "metadata": {},
     "output_type": "execute_result"
    }
   ],
   "source": [
    "file_name3 = r'C:\\Users\\majac\\Desktop\\JohnBriceProject\\intermediate csv files\\school_education_in_gush.csv'\n",
    "gush_school = pd.read_csv(file_name3)\n",
    "gush_school.set_index('gush_number', inplace=True)\n",
    "gush_school.loc[309]"
   ]
  },
  {
   "cell_type": "code",
   "execution_count": 48,
   "metadata": {},
   "outputs": [
    {
     "name": "stdout",
     "output_type": "stream",
     "text": [
      "{'mixed', 'H', 'A', 'M', 'O'}\n"
     ]
    }
   ],
   "source": [
    "for row, value in gush_school.iterrows():\n",
    "    if gush_school.loc[row, 'ethnicity']== 'A':\n",
    "        gush_school.loc[row, 'education_type']= 'A'\n",
    "    if gush_school.loc[row, 'ethnicity']== 'O':\n",
    "        gush_school.loc[row, 'education_type']= 'O'\n",
    "        \n",
    "gush_school['religious or not'] = gush_school['education_type'].replace({'H':4,'mixed':3, 'M':2, 'A':1, 'O':0})\n",
    "print(set(gush_school['education_type']))\n",
    "gush_school\n",
    "# gush_school['education_type'].astype(int)\n",
    "gush_schoolGB = gush_school.groupby('gush_number').sum()\n",
    "# gush_schoolGB['religious education level'] = gush_schoolGB['religious or not']/gush_schoolGB['school_gan']\n",
    "gush_school.to_csv(r'C:\\Users\\majac\\Desktop\\JohnBriceProject\\intermediate csv files\\school_education_in_gush2.csv')\n"
   ]
  }
 ],
 "metadata": {
  "kernelspec": {
   "display_name": "Python 3",
   "language": "python",
   "name": "python3"
  },
  "language_info": {
   "codemirror_mode": {
    "name": "ipython",
    "version": 3
   },
   "file_extension": ".py",
   "mimetype": "text/x-python",
   "name": "python",
   "nbconvert_exporter": "python",
   "pygments_lexer": "ipython3",
   "version": "3.6.10"
  }
 },
 "nbformat": 4,
 "nbformat_minor": 4
}
